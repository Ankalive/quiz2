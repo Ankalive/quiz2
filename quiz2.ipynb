{
 "cells": [
  {
   "cell_type": "markdown",
   "id": "8ce9e979",
   "metadata": {},
   "source": [
    "1. You will write a function called Perfsqr( )\n",
    "A perfect square is a positive integer whose square root is a whole\n",
    "number.\n",
    "Example: 25 is a perfect square since the square root of 25 is +/- 5\n",
    "Example: 36 is a perfect square since the square root of 36 is +/- 6\n",
    "Example: 30 is NOT a perfect square since the square root of 30 is\n",
    "5.47722557505\n",
    "A formula: N^2 = (N-1)^2 + 2N – 1\n",
    "Write a function that takes a positive number n and:\n",
    "- Determines if it is a perfect square\n",
    "- If it is not a perfect square prints an appropriate message\n",
    "- If it is a perfect square provides the root of the perfect square\n",
    "and provides the previous perfect square and next perfect\n",
    "square."
   ]
  },
  {
   "cell_type": "code",
   "execution_count": 57,
   "id": "d59133c6",
   "metadata": {},
   "outputs": [
    {
     "name": "stdout",
     "output_type": "stream",
     "text": [
      "Enter a positive number :15\n",
      "It is a perfect sqare\n"
     ]
    }
   ],
   "source": [
    "\n",
    "def Perfsqr(n):\n",
    "    if(n >= 0):\n",
    "        n=(((n-1)**2)+((2*n)-1))\n",
    "        return n\n",
    "        \n",
    "n=int(input(\"Enter a positive number :\"))\n",
    "n=n1\n",
    "if n1==(Perfsqr(n)):\n",
    "    print(\"It is a perfect sqare\")\n",
    "#else if (Perfsqr(n))=!n**2:\n",
    "else:\n",
    "    print(\"it is not a perfect sqare\")\n",
    "\n",
    "\n",
    "\n",
    "\n"
   ]
  },
  {
   "cell_type": "markdown",
   "id": "be30a989",
   "metadata": {},
   "source": [
    "2. We will write a function called SrtPerfsqr( )\n",
    "Based on the first function – and – the definition of a bubble search\n",
    "we went through in class, write a function which sorts a list of\n",
    "integers from lowest to highest but only includes perfect squares in\n",
    "the list.\n",
    "Any integer that is not a perfect square should be removed from the\n",
    "list.\n",
    "For instance – if the list provided is:\n",
    "[12, 5, 9, 4, 25, 7, 36]\n",
    "The output should be:\n",
    "[4, 9, 25, 36]\n",
    "Make sure your function covers the case where there are no perfect\n",
    "squares in the list, which would return a null list."
   ]
  },
  {
   "cell_type": "markdown",
   "id": "6023871c",
   "metadata": {},
   "source": [
    "#### "
   ]
  },
  {
   "cell_type": "code",
   "execution_count": null,
   "id": "c1a1c950",
   "metadata": {},
   "outputs": [],
   "source": [
    "def srtPerfsqr(arr,n):\n",
    "    for i in range(n):\n",
    "        arr[i]= arr[i] * arr[i]\n",
    "    arr.sort()\n",
    "arr = [12, 5, 9, 4, 25, 7, 36]\n",
    "n = len(arr)\n",
    " \n",
    "print(\"Before sort\")\n",
    "for i in range(n):\n",
    "    print(arr[i], end = \" \")\n",
    " \n",
    "print(\"\\n\")\n",
    " \n",
    "sortSquare(arr, n)\n",
    " \n",
    "print(\"After sort\")\n",
    "for i in range(n):\n",
    "    print(arr[i], end = \" \")\n"
   ]
  }
 ],
 "metadata": {
  "kernelspec": {
   "display_name": "Python 3 (ipykernel)",
   "language": "python",
   "name": "python3"
  },
  "language_info": {
   "codemirror_mode": {
    "name": "ipython",
    "version": 3
   },
   "file_extension": ".py",
   "mimetype": "text/x-python",
   "name": "python",
   "nbconvert_exporter": "python",
   "pygments_lexer": "ipython3",
   "version": "3.9.12"
  }
 },
 "nbformat": 4,
 "nbformat_minor": 5
}
